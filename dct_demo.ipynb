{
    "cells": [
        {
            "cell_type": "code",
            "execution_count": null,
            "metadata": {},
            "outputs": [],
            "source": [
                "#!/usr/bin/env python\n",
                "# -*- coding: utf-8 -*-\n",
                "#\n",
                "# Copyright (c) 2022 Milan Ondrašovič <milan.ondrasovic@gmail.com>\n",
                "#\n",
                "# MIT License\n",
                "#\n",
                "# Permission is hereby granted, free of charge, to any person obtaining a copy\n",
                "# of this software and associated documentation files (the \"Software\"), to deal\n",
                "# in the Software without restriction, including without limitation the rights\n",
                "# to use, copy, modify, merge, publish, distribute, sublicense, and/or sell\n",
                "# copies of the Software, and to permit persons to whom the Software is\n",
                "# furnished to do so, subject to the following conditions:\n",
                "#\n",
                "# The above copyright notice and this permission notice shall be included in all\n",
                "# copies or substantial portions of the Software.\n",
                "#\n",
                "# THE SOFTWARE IS PROVIDED \"AS IS\", WITHOUT WARRANTY OF ANY KIND, EXPRESS OR\n",
                "# IMPLIED, INCLUDING BUT NOT LIMITED TO THE WARRANTIES OF MERCHANTABILITY,\n",
                "# FITNESS FOR A PARTICULAR PURPOSE AND NONINFRINGEMENT. IN NO EVENT SHALL THE\n",
                "# AUTHORS OR COPYRIGHT HOLDERS BE LIABLE FOR ANY CLAIM, DAMAGES OR OTHER\n",
                "# LIABILITY, WHETHER IN AN ACTION OF CONTRACT, TORT OR OTHERWISE, ARISING FROM,\n",
                "# OUT OF OR IN CONNECTION WITH THE SOFTWARE OR THE USE OR OTHER DEALINGS IN THE\n",
                "\n",
                "from matplotlib import pyplot as plt\n",
                "from PIL import Image\n",
                "\n",
                "from compression import compress_image\n",
                "from dct import extract_dct_blocks\n",
                "from visual import plot_compression_effect\n",
                "\n",
                "plt.style.use('dark_background')\n",
                "\n",
                "%matplotlib inline\n",
                "\n",
                "%load_ext autoreload\n",
                "%autoreload 2"
            ]
        },
        {
            "cell_type": "code",
            "execution_count": null,
            "metadata": {},
            "outputs": [],
            "source": [
                "image_orig = Image.open('uncompressed.tiff').convert('L')\n",
                "\n",
                "image_compressed = compress_image(image_orig, quality=1)\n",
                "\n",
                "dct_blocks = extract_dct_blocks(image_orig)\n",
                "dct_blocks_compressed = extract_dct_blocks(image_compressed)\n",
                "\n",
                "plt.imshow(image_orig, cmap='gray')"
            ]
        },
        {
            "cell_type": "code",
            "execution_count": null,
            "metadata": {},
            "outputs": [],
            "source": [
                "plt.imshow(image_compressed, cmap='gray')"
            ]
        },
        {
            "cell_type": "code",
            "execution_count": null,
            "metadata": {},
            "outputs": [],
            "source": [
                "fig = plot_compression_effect(\n",
                "    [dct_blocks, dct_blocks_compressed], ['uncompressed', 'compressed']\n",
                ")\n",
                "fig.show()"
            ]
        },
        {
            "cell_type": "code",
            "execution_count": null,
            "metadata": {},
            "outputs": [],
            "source": [
                "import numpy as np\n",
                "\n",
                "# Luminance quantization coefficient.\n",
                "luminance_qm = np.array(\n",
                "    [[16,11,10,16,24,40,51,61],\n",
                "     [12,12,14,19,26,48,60,55],\n",
                "     [14,13,16,24,40,57,69,56],\n",
                "     [14,17,22,29,51,87,80,62],\n",
                "     [18,22,37,56,68,109,103,77],\n",
                "     [24,35,55,64,81,104,113,92],\n",
                "     [49,64,78,87,103,121,120,101],\n",
                "     [72,92,95,98,112,100,103,99]], dtype=np.float32)\n",
                "  \n",
                "# Chromaticity quantization coefficient.\n",
                "chromaticity_qm = np.array(\n",
                "    [[17,18,24,47,99,99,99,99],\n",
                "     [18,21,26,66,99,99,99,99],\n",
                "     [24,26,56,99,99,99,99,99],\n",
                "     [47,66,99,99,99,99,99,99],\n",
                "     [99,99,99,99,99,99,99,99],\n",
                "     [99,99,99,99,99,99,99,99],\n",
                "     [99,99,99,99,99,99,99,99],\n",
                "     [99,99,99,99,99,99,99,99]], dtype=np.float32)\n",
                "\n",
                "\n",
                "image_compressed_new = compress_image(image_orig, quality=50)\n",
                "curr_qm = image_compressed_new.quantization[0]\n",
                "\n",
                "for curr_quant_val, standard_quant_val in zip(curr_qm, luminance_qm.flatten()):\n",
                "    lower_scale = (100 * curr_quant_val - 150) / standard_quant_val\n",
                "    upper_scale = (100 * curr_quant_val + 50) / standard_quant_val\n",
                "\n",
                "    lower_quality_factor = int(round((200 - upper_scale) / 2))\n",
                "    upper_quality_factor = int(round((200 - lower_scale) / 2))\n",
                "\n",
                "    print(curr_quant_val, standard_quant_val, lower_quality_factor, upper_quality_factor)\n"
            ]
        },
        {
            "cell_type": "code",
            "execution_count": null,
            "metadata": {},
            "outputs": [],
            "source": []
        },
        {
            "cell_type": "code",
            "execution_count": null,
            "metadata": {},
            "outputs": [],
            "source": []
        }
    ],
    "metadata": {
        "interpreter": {
            "hash": "f91a5d6e4747d83f2ca8abaaaf7aacd52eac54e528eee770e3eb228d51a3694d"
        },
        "kernelspec": {
            "display_name": "Python 3.7.9 64-bit (system)",
            "language": "python",
            "name": "python3"
        },
        "language_info": {
            "codemirror_mode": {
                "name": "ipython",
                "version": 3
            },
            "file_extension": ".py",
            "mimetype": "text/x-python",
            "name": "python",
            "nbconvert_exporter": "python",
            "pygments_lexer": "ipython3",
            "version": "3.7.9"
        },
        "orig_nbformat": 4
    },
    "nbformat": 4,
    "nbformat_minor": 2
}
