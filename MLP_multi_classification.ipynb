{
    "cells": [
        {
            "cell_type": "code",
            "execution_count": 2,
            "metadata": {},
            "outputs": [],
            "source": [
                "#!/usr/bin/env python\n",
                "# -*- coding: utf-8 -*-\n",
                "#\n",
                "# Copyright (c) 2022 Milan Ondrašovič <milan.ondrasovic@gmail.com>\n",
                "#\n",
                "# MIT License\n",
                "#\n",
                "# Permission is hereby granted, free of charge, to any person obtaining a copy\n",
                "# of this software and associated documentation files (the \"Software\"), to deal\n",
                "# in the Software without restriction, including without limitation the rights\n",
                "# to use, copy, modify, merge, publish, distribute, sublicense, and/or sell\n",
                "# copies of the Software, and to permit persons to whom the Software is\n",
                "# furnished to do so, subject to the following conditions:\n",
                "#\n",
                "# The above copyright notice and this permission notice shall be included in all\n",
                "# copies or substantial portions of the Software.\n",
                "#\n",
                "# THE SOFTWARE IS PROVIDED \"AS IS\", WITHOUT WARRANTY OF ANY KIND, EXPRESS OR\n",
                "# IMPLIED, INCLUDING BUT NOT LIMITED TO THE WARRANTIES OF MERCHANTABILITY,\n",
                "# FITNESS FOR A PARTICULAR PURPOSE AND NONINFRINGEMENT. IN NO EVENT SHALL THE\n",
                "# AUTHORS OR COPYRIGHT HOLDERS BE LIABLE FOR ANY CLAIM, DAMAGES OR OTHER\n",
                "# LIABILITY, WHETHER IN AN ACTION OF CONTRACT, TORT OR OTHERWISE, ARISING FROM,\n",
                "# OUT OF OR IN CONNECTION WITH THE SOFTWARE OR THE USE OR OTHER DEALINGS IN THE\n",
                "\n",
                "import numpy as np\n",
                "from matplotlib import pyplot as plt\n",
                "from sklearn.neural_network import MLPClassifier\n",
                "from sklearn.metrics import classification_report, ConfusionMatrixDisplay\n",
                "from sklearn.pipeline import Pipeline\n",
                "from sklearn.preprocessing import StandardScaler\n",
                "\n",
                "import config as cfg\n",
                "from dataset import (\n",
                "    load_dataset_and_extract_features, MultiClassLabelGetter\n",
                ")\n",
                "\n",
                "plt.style.use('dark_background')\n",
                "\n",
                "%matplotlib inline\n",
                "\n",
                "%load_ext autoreload\n",
                "%autoreload 2"
            ]
        },
        {
            "cell_type": "code",
            "execution_count": 3,
            "metadata": {},
            "outputs": [],
            "source": [
                "quality_factors_bounds = [20, 40, 60, 80, 100]\n",
                "label_names = ['best', 'very-low', 'low', 'medium', 'high', 'very-high']\n",
                "\n",
                "label_getter = MultiClassLabelGetter(quality_factors_bounds)"
            ]
        },
        {
            "cell_type": "code",
            "execution_count": 4,
            "metadata": {},
            "outputs": [
                {
                    "name": "stderr",
                    "output_type": "stream",
                    "text": [
                        "100%|██████████| 708/708 [00:19<00:00, 35.79it/s]\n",
                        "100%|██████████| 174/174 [00:05<00:00, 29.94it/s]\n"
                    ]
                },
                {
                    "data": {
                        "text/plain": [
                            "((708, 192), (174, 192))"
                        ]
                    },
                    "execution_count": 4,
                    "metadata": {},
                    "output_type": "execute_result"
                }
            ],
            "source": [
                "features_train, labels_train = load_dataset_and_extract_features(\n",
                "    cfg.TRAIN_DIR_PATH, label_getter\n",
                ")\n",
                "features_test, labels_test = load_dataset_and_extract_features(\n",
                "    cfg.TEST_DIR_PATH, label_getter\n",
                ")\n",
                "\n",
                "features_train.shape, features_test.shape"
            ]
        },
        {
            "cell_type": "code",
            "execution_count": 5,
            "metadata": {},
            "outputs": [
                {
                    "data": {
                        "text/plain": [
                            "(array([0, 1, 2, 3, 4, 5]), array([118, 118, 118, 118, 118, 118], dtype=int64))"
                        ]
                    },
                    "execution_count": 5,
                    "metadata": {},
                    "output_type": "execute_result"
                }
            ],
            "source": [
                "np.unique(labels_train, return_counts=True)"
            ]
        },
        {
            "cell_type": "code",
            "execution_count": 6,
            "metadata": {},
            "outputs": [
                {
                    "name": "stdout",
                    "output_type": "stream",
                    "text": [
                        "[Pipeline] ............ (step 1 of 2) Processing scaler, total=   0.0s\n",
                        "Iteration 1, loss = 1.46712385\n",
                        "Iteration 2, loss = 1.19862162\n",
                        "Iteration 3, loss = 1.10292817\n",
                        "Iteration 4, loss = 1.04638123\n",
                        "Iteration 5, loss = 1.00300635\n",
                        "Iteration 6, loss = 0.98095748\n",
                        "Iteration 7, loss = 0.94302495\n",
                        "Iteration 8, loss = 0.90960035\n",
                        "Iteration 9, loss = 0.86635329\n",
                        "Iteration 10, loss = 0.84421264\n",
                        "Iteration 11, loss = 0.81694429\n",
                        "Iteration 12, loss = 0.79019435\n",
                        "Iteration 13, loss = 0.75813479\n",
                        "Iteration 14, loss = 0.73765418\n",
                        "Iteration 15, loss = 0.73487059\n",
                        "Iteration 16, loss = 0.70047557\n",
                        "Iteration 17, loss = 0.68533663\n",
                        "Iteration 18, loss = 0.67174762\n",
                        "Iteration 19, loss = 0.65559280\n",
                        "Iteration 20, loss = 0.63753361\n",
                        "Iteration 21, loss = 0.61073377\n",
                        "Iteration 22, loss = 0.60113332\n",
                        "Iteration 23, loss = 0.61085392\n",
                        "Iteration 24, loss = 0.59562855\n",
                        "Iteration 25, loss = 0.56975568\n",
                        "Iteration 26, loss = 0.54845881\n",
                        "Iteration 27, loss = 0.53460667\n",
                        "Iteration 28, loss = 0.52562565\n",
                        "Iteration 29, loss = 0.52150478\n",
                        "Iteration 30, loss = 0.51197746\n",
                        "Iteration 31, loss = 0.54678134\n",
                        "Iteration 32, loss = 0.49097013\n",
                        "Iteration 33, loss = 0.49393328\n",
                        "Iteration 34, loss = 0.48372179\n",
                        "Iteration 35, loss = 0.45767975\n",
                        "Iteration 36, loss = 0.47584170\n",
                        "Iteration 37, loss = 0.45251817\n",
                        "Iteration 38, loss = 0.44999648\n",
                        "Iteration 39, loss = 0.43021501\n",
                        "Iteration 40, loss = 0.43699759\n",
                        "Iteration 41, loss = 0.43580464\n",
                        "Iteration 42, loss = 0.41960862\n",
                        "Iteration 43, loss = 0.39688336\n",
                        "Iteration 44, loss = 0.38809517\n",
                        "Iteration 45, loss = 0.40310653\n",
                        "Iteration 46, loss = 0.41516143\n",
                        "Iteration 47, loss = 0.37580816\n",
                        "Iteration 48, loss = 0.39870991\n",
                        "Iteration 49, loss = 0.39329113\n",
                        "Iteration 50, loss = 0.42910004\n",
                        "Iteration 51, loss = 0.37639749\n",
                        "Iteration 52, loss = 0.35906999\n",
                        "Iteration 53, loss = 0.34919180\n",
                        "Iteration 54, loss = 0.34458616\n",
                        "Iteration 55, loss = 0.34207011\n",
                        "Iteration 56, loss = 0.35763949\n",
                        "Iteration 57, loss = 0.32016065\n",
                        "Iteration 58, loss = 0.31406390\n",
                        "Iteration 59, loss = 0.30424209\n",
                        "Iteration 60, loss = 0.30723422\n",
                        "Iteration 61, loss = 0.39455098\n",
                        "Iteration 62, loss = 0.37040174\n",
                        "Iteration 63, loss = 0.30749248\n",
                        "Iteration 64, loss = 0.32573091\n",
                        "Iteration 65, loss = 0.31996901\n",
                        "Iteration 66, loss = 0.31795328\n",
                        "Iteration 67, loss = 0.33427555\n",
                        "Iteration 68, loss = 0.29713193\n",
                        "Iteration 69, loss = 0.27834831\n",
                        "Iteration 70, loss = 0.26645641\n",
                        "Iteration 71, loss = 0.27714724\n",
                        "Iteration 72, loss = 0.27970389\n",
                        "Iteration 73, loss = 0.26581823\n",
                        "Iteration 74, loss = 0.25593029\n",
                        "Iteration 75, loss = 0.25500110\n",
                        "Iteration 76, loss = 0.24892637\n",
                        "Iteration 77, loss = 0.28252446\n",
                        "Iteration 78, loss = 0.24944849\n",
                        "Iteration 79, loss = 0.24182500\n",
                        "Iteration 80, loss = 0.27749351\n",
                        "Iteration 81, loss = 0.25101822\n",
                        "Iteration 82, loss = 0.24874193\n",
                        "Iteration 83, loss = 0.28174003\n",
                        "Iteration 84, loss = 0.23535717\n",
                        "Iteration 85, loss = 0.23275575\n",
                        "Iteration 86, loss = 0.22578673\n",
                        "Iteration 87, loss = 0.21497939\n",
                        "Iteration 88, loss = 0.21766012\n",
                        "Iteration 89, loss = 0.20804801\n",
                        "Iteration 90, loss = 0.21651581\n",
                        "Iteration 91, loss = 0.23296723\n",
                        "Iteration 92, loss = 0.20475291\n",
                        "Iteration 93, loss = 0.21447360\n",
                        "Iteration 94, loss = 0.23183464\n",
                        "Iteration 95, loss = 0.20960540\n",
                        "Iteration 96, loss = 0.19571044\n",
                        "Iteration 97, loss = 0.19991346\n",
                        "Iteration 98, loss = 0.20094422\n",
                        "Iteration 99, loss = 0.19012604\n",
                        "Iteration 100, loss = 0.18302386\n",
                        "Iteration 101, loss = 0.18304247\n",
                        "Iteration 102, loss = 0.17721290\n",
                        "Iteration 103, loss = 0.18902443\n",
                        "Iteration 104, loss = 0.17695487\n",
                        "Iteration 105, loss = 0.17208650\n",
                        "Iteration 106, loss = 0.17772851\n",
                        "Iteration 107, loss = 0.18588623\n",
                        "Iteration 108, loss = 0.17486990\n",
                        "Iteration 109, loss = 0.16903571\n",
                        "Iteration 110, loss = 0.17613045\n",
                        "Iteration 111, loss = 0.16193929\n",
                        "Iteration 112, loss = 0.15875035\n",
                        "Iteration 113, loss = 0.16330726\n",
                        "Iteration 114, loss = 0.16130351\n",
                        "Iteration 115, loss = 0.16330513\n",
                        "Iteration 116, loss = 0.15135737\n",
                        "Iteration 117, loss = 0.19607543\n",
                        "Iteration 118, loss = 0.20416945\n",
                        "Iteration 119, loss = 0.17202975\n",
                        "Iteration 120, loss = 0.15374978\n",
                        "Iteration 121, loss = 0.17769601\n",
                        "Iteration 122, loss = 0.16389718\n",
                        "Iteration 123, loss = 0.15270820\n",
                        "Iteration 124, loss = 0.15867029\n",
                        "Iteration 125, loss = 0.24428701\n",
                        "Iteration 126, loss = 0.19141615\n",
                        "Iteration 127, loss = 0.15348900\n",
                        "Training loss did not improve more than tol=0.000100 for 10 consecutive epochs. Stopping.\n",
                        "[Pipeline] ............. (step 2 of 2) Processing model, total=  49.6s\n"
                    ]
                },
                {
                    "data": {
                        "text/plain": [
                            "Pipeline(steps=[('scaler', StandardScaler()),\n",
                            "                ('model',\n",
                            "                 MLPClassifier(batch_size=64,\n",
                            "                               hidden_layer_sizes=(512, 512, 256),\n",
                            "                               learning_rate='invscaling',\n",
                            "                               learning_rate_init=0.01, max_iter=256,\n",
                            "                               power_t=0.1, random_state=731995, solver='sgd',\n",
                            "                               verbose=True))],\n",
                            "         verbose=True)"
                        ]
                    },
                    "execution_count": 6,
                    "metadata": {},
                    "output_type": "execute_result"
                }
            ],
            "source": [
                "lr = 1e-2\n",
                "momentum = 0.9\n",
                "batch_size = 64\n",
                "n_epochs = 256\n",
                "\n",
                "model = MLPClassifier(\n",
                "    hidden_layer_sizes=(512, 512, 256),\n",
                "    activation='relu',\n",
                "    solver='sgd',\n",
                "    alpha=1e-4,\n",
                "    batch_size=batch_size,\n",
                "    learning_rate_init=lr,\n",
                "    learning_rate='invscaling',\n",
                "    power_t=0.1,\n",
                "    max_iter=n_epochs,\n",
                "    momentum=momentum,\n",
                "    random_state=731995,\n",
                "    verbose=True\n",
                ")\n",
                "pipeline = Pipeline(\n",
                "    [\n",
                "        ('scaler', StandardScaler()),\n",
                "        ('model', model)\n",
                "    ],\n",
                "    verbose=True\n",
                ")\n",
                "\n",
                "pipeline.fit(features_train, labels_train)"
            ]
        },
        {
            "cell_type": "code",
            "execution_count": 7,
            "metadata": {},
            "outputs": [
                {
                    "name": "stdout",
                    "output_type": "stream",
                    "text": [
                        "              precision    recall  f1-score   support\n",
                        "\n",
                        "        best       1.00      0.97      0.98        29\n",
                        "    very-low       0.86      0.86      0.86        29\n",
                        "         low       0.75      0.83      0.79        29\n",
                        "      medium       0.70      0.72      0.71        29\n",
                        "        high       0.50      0.76      0.60        29\n",
                        "   very-high       0.82      0.31      0.45        29\n",
                        "\n",
                        "    accuracy                           0.74       174\n",
                        "   macro avg       0.77      0.74      0.73       174\n",
                        "weighted avg       0.77      0.74      0.73       174\n",
                        "\n"
                    ]
                }
            ],
            "source": [
                "labels_pred = pipeline.predict(features_test)\n",
                "print(classification_report(labels_test, labels_pred, target_names=label_names))"
            ]
        },
        {
            "cell_type": "code",
            "execution_count": 8,
            "metadata": {},
            "outputs": [
                {
                    "data": {
                        "image/png": "[encoded data removed]",
                        "text/plain": [
                            "<Figure size 432x288 with 2 Axes>"
                        ]
                    },
                    "metadata": {
                        "needs_background": "dark"
                    },
                    "output_type": "display_data"
                },
                {
                    "data": {
                        "image/png": "[encoded data removed]",
                        "text/plain": [
                            "<Figure size 432x288 with 2 Axes>"
                        ]
                    },
                    "metadata": {
                        "needs_background": "dark"
                    },
                    "output_type": "display_data"
                }
            ],
            "source": [
                "disp = ConfusionMatrixDisplay.from_predictions(\n",
                "    labels_test, labels_pred, display_labels=label_names\n",
                ")\n",
                "disp.plot()\n",
                "plt.savefig('CM_multi_MLP_classifier.png', dpi=200)"
            ]
        },
        {
            "cell_type": "code",
            "execution_count": null,
            "metadata": {},
            "outputs": [],
            "source": []
        }
    ],
    "metadata": {
        "interpreter": {
            "hash": "f91a5d6e4747d83f2ca8abaaaf7aacd52eac54e528eee770e3eb228d51a3694d"
        },
        "kernelspec": {
            "display_name": "Python 3.7.9 64-bit (system)",
            "language": "python",
            "name": "python3"
        },
        "language_info": {
            "codemirror_mode": {
                "name": "ipython",
                "version": 3
            },
            "file_extension": ".py",
            "mimetype": "text/x-python",
            "name": "python",
            "nbconvert_exporter": "python",
            "pygments_lexer": "ipython3",
            "version": "3.7.9"
        },
        "orig_nbformat": 4
    },
    "nbformat": 4,
    "nbformat_minor": 2
}
