{
    "cells": [
        {
            "cell_type": "code",
            "execution_count": 1,
            "metadata": {},
            "outputs": [],
            "source": [
                "#!/usr/bin/env python\n",
                "# -*- coding: utf-8 -*-\n",
                "#\n",
                "# Copyright (c) 2022 Milan Ondrašovič <milan.ondrasovic@gmail.com>\n",
                "#\n",
                "# MIT License\n",
                "#\n",
                "# Permission is hereby granted, free of charge, to any person obtaining a copy\n",
                "# of this software and associated documentation files (the \"Software\"), to deal\n",
                "# in the Software without restriction, including without limitation the rights\n",
                "# to use, copy, modify, merge, publish, distribute, sublicense, and/or sell\n",
                "# copies of the Software, and to permit persons to whom the Software is\n",
                "# furnished to do so, subject to the following conditions:\n",
                "#\n",
                "# The above copyright notice and this permission notice shall be included in all\n",
                "# copies or substantial portions of the Software.\n",
                "#\n",
                "# THE SOFTWARE IS PROVIDED \"AS IS\", WITHOUT WARRANTY OF ANY KIND, EXPRESS OR\n",
                "# IMPLIED, INCLUDING BUT NOT LIMITED TO THE WARRANTIES OF MERCHANTABILITY,\n",
                "# FITNESS FOR A PARTICULAR PURPOSE AND NONINFRINGEMENT. IN NO EVENT SHALL THE\n",
                "# AUTHORS OR COPYRIGHT HOLDERS BE LIABLE FOR ANY CLAIM, DAMAGES OR OTHER\n",
                "# LIABILITY, WHETHER IN AN ACTION OF CONTRACT, TORT OR OTHERWISE, ARISING FROM,\n",
                "# OUT OF OR IN CONNECTION WITH THE SOFTWARE OR THE USE OR OTHER DEALINGS IN THE\n",
                "\n",
                "import numpy as np\n",
                "from matplotlib import pyplot as plt\n",
                "from sklearn.linear_model import LogisticRegression\n",
                "from sklearn.manifold import TSNE\n",
                "from sklearn.metrics import ConfusionMatrixDisplay\n",
                "from sklearn.pipeline import Pipeline\n",
                "from sklearn.preprocessing import StandardScaler\n",
                "\n",
                "import config as cfg\n",
                "from dataset import load_dataset_and_extract_features, regression_label_getter\n",
                "from visual import plot_linear_feature_importance\n",
                "\n",
                "plt.style.use('dark_background')\n",
                "\n",
                "%matplotlib inline\n",
                "\n",
                "%load_ext autoreload\n",
                "%autoreload 2"
            ]
        },
        {
            "cell_type": "code",
            "execution_count": 2,
            "metadata": {},
            "outputs": [],
            "source": [
                "import config as cfg\n",
                "from dataset import (\n",
                "    create_image_compression_dataset, build_quality_factors_gen\n",
                ")"
            ]
        },
        {
            "cell_type": "code",
            "execution_count": 3,
            "metadata": {},
            "outputs": [
                {
                    "name": "stderr",
                    "output_type": "stream",
                    "text": [
                        "train: 100%|██████████| 118/118 [00:02<00:00, 39.65it/s]\n",
                        "test: 100%|██████████| 29/29 [00:00<00:00, 38.99it/s]\n"
                    ]
                }
            ],
            "source": [
                "quality_factors_gen = build_quality_factors_gen(\n",
                "    quality_factors=(55, 65, 75, 85, 95),\n",
                "    min_deviation=4,\n",
                "    max_deviation=5\n",
                ")\n",
                "\n",
                "create_image_compression_dataset(\n",
                "    cfg.INPUT_IMGS_DIR_PATH, cfg.TRAIN_DIR_PATH, cfg.TEST_DIR_PATH,\n",
                "    quality_factors_gen, save_uncompressed=False\n",
                ")"
            ]
        },
        {
            "cell_type": "code",
            "execution_count": 4,
            "metadata": {},
            "outputs": [],
            "source": [
                "label_getter = regression_label_getter"
            ]
        },
        {
            "cell_type": "code",
            "execution_count": 5,
            "metadata": {},
            "outputs": [
                {
                    "name": "stderr",
                    "output_type": "stream",
                    "text": [
                        "100%|██████████| 590/590 [00:15<00:00, 37.11it/s]\n",
                        "100%|██████████| 145/145 [00:05<00:00, 28.27it/s]\n"
                    ]
                },
                {
                    "data": {
                        "text/plain": [
                            "((590, 192), (145, 192))"
                        ]
                    },
                    "execution_count": 5,
                    "metadata": {},
                    "output_type": "execute_result"
                }
            ],
            "source": [
                "features_train, labels_train = load_dataset_and_extract_features(\n",
                "    cfg.TRAIN_DIR_PATH, label_getter\n",
                ")\n",
                "features_test, labels_test = load_dataset_and_extract_features(\n",
                "    cfg.TEST_DIR_PATH, label_getter\n",
                ")\n",
                "\n",
                "features_train.shape, features_test.shape"
            ]
        },
        {
            "cell_type": "code",
            "execution_count": 6,
            "metadata": {},
            "outputs": [
                {
                    "data": {
                        "text/plain": [
                            "(array([ 51,  52,  53,  54,  55,  56,  57,  58,  59,  60,  61,  62,  63,\n",
                            "         64,  65,  66,  67,  68,  69,  70,  71,  72,  73,  74,  75,  76,\n",
                            "         77,  78,  79,  80,  81,  82,  83,  84,  85,  86,  87,  88,  89,\n",
                            "         90,  91,  92,  93,  94,  95,  96,  97,  98,  99, 100]),\n",
                            " array([ 9, 10, 12, 10, 14, 10, 14, 15, 10, 14, 20,  8, 14, 11, 13, 12, 10,\n",
                            "        10,  9, 11, 13, 15, 14, 11,  6,  9, 14,  9, 12, 15,  9,  7, 12, 17,\n",
                            "        15, 13, 10, 12, 11, 12, 13, 10, 11, 13, 11, 13, 11, 17,  9, 10],\n",
                            "       dtype=int64))"
                        ]
                    },
                    "execution_count": 6,
                    "metadata": {},
                    "output_type": "execute_result"
                }
            ],
            "source": [
                "np.unique(labels_train, return_counts=True)"
            ]
        },
        {
            "cell_type": "code",
            "execution_count": 24,
            "metadata": {},
            "outputs": [
                {
                    "name": "stdout",
                    "output_type": "stream",
                    "text": [
                        "[Pipeline] ............ (step 1 of 2) Processing scaler, total=   0.0s\n",
                        "      Iter       Train Loss   Remaining Time \n",
                        "         1         195.0746           11.98s\n",
                        "         2         184.2128           11.45s\n",
                        "         3         174.1579           12.59s\n",
                        "         4         165.1985           13.39s\n",
                        "         5         157.3300           12.47s\n",
                        "         6         150.6194           12.27s\n",
                        "         7         143.7711           11.83s\n",
                        "         8         137.8035           11.69s\n",
                        "         9         132.0122           11.40s\n",
                        "        10         127.3326           11.07s\n",
                        "        20         102.4382            9.41s\n",
                        "        30          85.1419            8.75s\n",
                        "        40          72.5207            9.10s\n",
                        "        50          61.7362            8.98s\n",
                        "        60          53.6809            8.76s\n",
                        "        70          46.5837            8.48s\n",
                        "        80          41.8356            8.11s\n",
                        "        90          37.2194            7.81s\n",
                        "       100          32.8904            7.51s\n",
                        "       200          11.4863            5.26s\n",
                        "       300           4.0269            3.44s\n",
                        "       400           1.6296            1.70s\n",
                        "       500           0.6705            0.00s\n",
                        "[Pipeline] ............. (step 2 of 2) Processing model, total=   8.4s\n",
                        "0.3532426784307958\n"
                    ]
                }
            ],
            "source": [
                "from sklearn.ensemble import RandomForestRegressor, GradientBoostingRegressor\n",
                "\n",
                "# model = LogisticRegression(\n",
                "#     max_iter=5000, multi_class='multinomial', random_state=731995\n",
                "# )\n",
                "model = GradientBoostingRegressor(n_estimators=500, learning_rate=0.1, random_state=731995, verbose=True)\n",
                "pipeline = Pipeline(\n",
                "    [\n",
                "        ('scaler', StandardScaler()),\n",
                "        ('model', model)\n",
                "    ],\n",
                "    verbose=True\n",
                ")\n",
                "\n",
                "pipeline.fit(features_train, labels_train)\n",
                "\n",
                "labels_pred = pipeline.predict(features_test)\n",
                "\n",
                "from sklearn.metrics import r2_score\n",
                "\n",
                "print(r2_score(labels_test, labels_pred))"
            ]
        },
        {
            "cell_type": "code",
            "execution_count": null,
            "metadata": {},
            "outputs": [],
            "source": [
                "\n",
                "labels_pred = pipeline.predict(features_test)\n",
                "\n",
                "from sklearn.metrics import r2_score\n",
                "\n",
                "print(r2_score(labels_test, labels_pred))"
            ]
        },
        {
            "cell_type": "code",
            "execution_count": 17,
            "metadata": {},
            "outputs": [
                {
                    "name": "stdout",
                    "output_type": "stream",
                    "text": [
                        "0.3977779354163482\n"
                    ]
                }
            ],
            "source": [
                "labels_pred = pipeline.predict(features_test)\n",
                "\n",
                "from sklearn.metrics import r2_score\n",
                "\n",
                "print(r2_score(labels_test, labels_pred))"
            ]
        },
        {
            "cell_type": "code",
            "execution_count": 18,
            "metadata": {},
            "outputs": [
                {
                    "data": {
                        "text/plain": [
                            "(array([ 57,  66,  78,  90,  93,  60,  61,  78,  87,  98,  60,  68,  79,\n",
                            "         81,  94,  59,  67,  73,  89,  99,  54,  63,  77,  83,  91,  54,\n",
                            "         70,  72,  83,  98,  55,  68,  72,  82,  91,  60,  65,  76,  84,\n",
                            "         99,  55,  67,  77,  81,  91,  54,  62,  71,  83,  94,  59,  65,\n",
                            "         74,  87,  94,  59,  63,  75,  84,  97,  54,  62,  71,  85,  92,\n",
                            "         52,  69,  75,  88,  91,  52,  64,  79,  89,  99,  55,  61,  77,\n",
                            "         86, 100,  56,  70,  77,  83,  98,  59,  69,  74,  83,  91,  59,\n",
                            "         66,  74,  85,  99,  52,  61,  73,  88,  96,  52,  67,  77,  81,\n",
                            "         92,  59,  65,  76,  85,  91,  56,  70,  74,  87,  92,  58,  69,\n",
                            "         75,  89,  92,  51,  61,  72,  87,  96,  56,  68,  80,  87,  98,\n",
                            "         53,  67,  75,  82,  98,  59,  68,  71,  86,  91,  51,  68,  75,\n",
                            "         89,  95]),\n",
                            " array([66.23 , 79.305, 83.11 , 77.94 , 83.765, 73.085, 73.28 , 73.475,\n",
                            "        78.77 , 74.88 , 60.03 , 71.205, 87.245, 87.485, 81.72 , 56.765,\n",
                            "        62.955, 70.49 , 65.965, 71.82 , 60.91 , 73.705, 84.76 , 85.205,\n",
                            "        82.895, 60.18 , 82.76 , 83.365, 83.29 , 82.71 , 68.515, 80.01 ,\n",
                            "        82.58 , 84.29 , 83.4  , 63.01 , 66.82 , 77.85 , 82.55 , 78.41 ,\n",
                            "        61.67 , 79.005, 82.51 , 84.045, 82.73 , 60.2  , 61.3  , 80.125,\n",
                            "        83.03 , 81.53 , 72.99 , 80.65 , 82.3  , 83.985, 81.87 , 64.2  ,\n",
                            "        71.12 , 75.9  , 83.55 , 79.91 , 56.91 , 61.105, 76.095, 83.21 ,\n",
                            "        79.82 , 65.17 , 68.54 , 72.44 , 70.5  , 72.705, 59.1  , 63.995,\n",
                            "        77.295, 68.48 , 69.95 , 59.33 , 64.925, 85.25 , 85.62 , 83.755,\n",
                            "        66.315, 83.23 , 82.86 , 85.26 , 83.595, 67.17 , 71.185, 72.79 ,\n",
                            "        73.44 , 72.795, 79.995, 79.255, 82.49 , 81.285, 82.17 , 64.86 ,\n",
                            "        66.665, 73.42 , 71.66 , 73.075, 56.635, 65.025, 72.815, 76.535,\n",
                            "        73.93 , 73.03 , 82.295, 82.91 , 87.73 , 82.64 , 61.355, 66.295,\n",
                            "        69.285, 76.04 , 69.6  , 72.125, 79.145, 83.21 , 82.525, 83.08 ,\n",
                            "        58.495, 59.655, 67.18 , 85.55 , 76.89 , 72.   , 74.415, 79.09 ,\n",
                            "        80.88 , 79.745, 57.465, 66.965, 73.335, 77.58 , 72.995, 63.395,\n",
                            "        71.315, 75.97 , 83.07 , 75.92 , 72.965, 79.695, 82.53 , 81.35 ,\n",
                            "        83.16 ]))"
                        ]
                    },
                    "execution_count": 18,
                    "metadata": {},
                    "output_type": "execute_result"
                }
            ],
            "source": [
                "labels_test, labels_pred"
            ]
        },
        {
            "cell_type": "code",
            "execution_count": 9,
            "metadata": {},
            "outputs": [
                {
                    "name": "stderr",
                    "output_type": "stream",
                    "text": [
                        "E:\\venvs\\siam-mot\\lib\\site-packages\\ipykernel_launcher.py:2: UserWarning: Matplotlib is currently using module://matplotlib_inline.backend_inline, which is a non-GUI backend, so cannot show the figure.\n",
                        "  \n"
                    ]
                },
                {
                    "data": {
                        "image/png": "[encoded data removed]",
                        "text/plain": [
                            "<Figure size 1152x288 with 1 Axes>"
                        ]
                    },
                    "metadata": {
                        "needs_background": "dark"
                    },
                    "output_type": "display_data"
                }
            ],
            "source": [
                "fig = plot_linear_feature_importance(model)\n",
                "fig.show()"
            ]
        }
    ],
    "metadata": {
        "interpreter": {
            "hash": "f91a5d6e4747d83f2ca8abaaaf7aacd52eac54e528eee770e3eb228d51a3694d"
        },
        "kernelspec": {
            "display_name": "Python 3.7.9 64-bit (system)",
            "language": "python",
            "name": "python3"
        },
        "language_info": {
            "codemirror_mode": {
                "name": "ipython",
                "version": 3
            },
            "file_extension": ".py",
            "mimetype": "text/x-python",
            "name": "python",
            "nbconvert_exporter": "python",
            "pygments_lexer": "ipython3",
            "version": "3.7.9"
        },
        "orig_nbformat": 4
    },
    "nbformat": 4,
    "nbformat_minor": 2
}
