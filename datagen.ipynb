{
    "cells": [
        {
            "cell_type": "code",
            "execution_count": 1,
            "metadata": {},
            "outputs": [],
            "source": [
                "#!/usr/bin/env python\n",
                "# -*- coding: utf-8 -*-\n",
                "#\n",
                "# Copyright (c) 2022 Milan Ondrašovič <milan.ondrasovic@gmail.com>\n",
                "#\n",
                "# MIT License\n",
                "#\n",
                "# Permission is hereby granted, free of charge, to any person obtaining a copy\n",
                "# of this software and associated documentation files (the \"Software\"), to deal\n",
                "# in the Software without restriction, including without limitation the rights\n",
                "# to use, copy, modify, merge, publish, distribute, sublicense, and/or sell\n",
                "# copies of the Software, and to permit persons to whom the Software is\n",
                "# furnished to do so, subject to the following conditions:\n",
                "#\n",
                "# The above copyright notice and this permission notice shall be included in all\n",
                "# copies or substantial portions of the Software.\n",
                "#\n",
                "# THE SOFTWARE IS PROVIDED \"AS IS\", WITHOUT WARRANTY OF ANY KIND, EXPRESS OR\n",
                "# IMPLIED, INCLUDING BUT NOT LIMITED TO THE WARRANTIES OF MERCHANTABILITY,\n",
                "# FITNESS FOR A PARTICULAR PURPOSE AND NONINFRINGEMENT. IN NO EVENT SHALL THE\n",
                "# AUTHORS OR COPYRIGHT HOLDERS BE LIABLE FOR ANY CLAIM, DAMAGES OR OTHER\n",
                "# LIABILITY, WHETHER IN AN ACTION OF CONTRACT, TORT OR OTHERWISE, ARISING FROM,\n",
                "# OUT OF OR IN CONNECTION WITH THE SOFTWARE OR THE USE OR OTHER DEALINGS IN THE\n",
                "\n",
                "import config as cfg\n",
                "from dataset import (\n",
                "    create_image_compression_dataset, build_quality_factors_gen\n",
                ")\n",
                "\n",
                "%load_ext autoreload\n",
                "%autoreload 2"
            ]
        },
        {
            "cell_type": "code",
            "execution_count": 2,
            "metadata": {},
            "outputs": [
                {
                    "name": "stderr",
                    "output_type": "stream",
                    "text": [
                        "train: 100%|██████████| 118/118 [00:08<00:00, 14.52it/s]\n",
                        "test: 100%|██████████| 29/29 [00:02<00:00, 11.95it/s]\n"
                    ]
                }
            ],
            "source": [
                "# quality_factors_gen = build_quality_factors_gen(\n",
                "#     quality_factors=(10, 30, 50, 70, 90),\n",
                "#     min_deviation=9,\n",
                "#     max_deviation=10\n",
                "# )\n",
                "\n",
                "# create_image_compression_dataset(\n",
                "#     cfg.INPUT_IMGS_DIR_PATH, cfg.TRAIN_DIR_PATH, cfg.TEST_DIR_PATH,\n",
                "#     quality_factors_gen\n",
                "# )\n",
                "\n",
                "quality_factors_gen = build_quality_factors_gen(\n",
                "    quality_factors=(55, 65, 75, 85, 95),\n",
                "    min_deviation=4,\n",
                "    max_deviation=5\n",
                ")\n",
                "\n",
                "create_image_compression_dataset(\n",
                "    cfg.INPUT_IMGS_DIR_PATH, cfg.TRAIN_DIR_PATH, cfg.TEST_DIR_PATH,\n",
                "    quality_factors_gen\n",
                ")"
            ]
        }
    ],
    "metadata": {
        "interpreter": {
            "hash": "f91a5d6e4747d83f2ca8abaaaf7aacd52eac54e528eee770e3eb228d51a3694d"
        },
        "kernelspec": {
            "display_name": "Python 3.7.9 64-bit (system)",
            "language": "python",
            "name": "python3"
        },
        "language_info": {
            "codemirror_mode": {
                "name": "ipython",
                "version": 3
            },
            "file_extension": ".py",
            "mimetype": "text/x-python",
            "name": "python",
            "nbconvert_exporter": "python",
            "pygments_lexer": "ipython3",
            "version": "3.7.9"
        },
        "orig_nbformat": 4
    },
    "nbformat": 4,
    "nbformat_minor": 2
}
